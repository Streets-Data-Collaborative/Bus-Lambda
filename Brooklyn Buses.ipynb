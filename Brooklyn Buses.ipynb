{
 "cells": [
  {
   "cell_type": "code",
   "execution_count": null,
   "metadata": {},
   "outputs": [],
   "source": [
    "import numpy as np\n",
    "import pandas as pd\n",
    "import geopandas as gp\n",
    "from datetime import datetime\n",
    "\n",
    "import shapely\n",
    "\n",
    "import re\n",
    "regex = re.compile('^B')\n",
    "regex_numbers = re.compile(r'\\D+')"
   ]
  },
  {
   "cell_type": "markdown",
   "metadata": {},
   "source": [
    "https://www.baruch.cuny.edu/confluence/pages/viewpage.action?pageId=28016896"
   ]
  },
  {
   "cell_type": "code",
   "execution_count": null,
   "metadata": {},
   "outputs": [],
   "source": [
    "## https://gis.stackexchange.com/questions/309251/how-to-get-equidistant-points-from-a-linestring-geographical-coordinates\n",
    "\n",
    "def create_geo(busline, points ,time_index):\n",
    "    '''\n",
    "    Doc: busline: row indicating busline, should contain geometry\n",
    "          time_index = pd.date_range obj with required cadance\n",
    "    '''\n",
    "    \n",
    "    busLineFinal = []\n",
    "    totalIdx = len(time_index)\n",
    "    lastIdx = 0\n",
    "    flag = True\n",
    "    \n",
    "    \n",
    "    route_dir = busline[1]\n",
    "    route_id = busline[0]\n",
    "    \n",
    "    #Clip line into 250 unique points\n",
    "    num_points = points\n",
    "    points = [busline[6].interpolate(i/float(num_points - 1),\n",
    "                                                                 normalized=True)\n",
    "                                                     for i in range(num_points)]    \n",
    "    #BusLines with reverse routes\n",
    "    if not route_dir:\n",
    "        points.reverse()\n",
    "    busline_geom = gp.GeoSeries(points)\n",
    "    \n",
    "    while flag:\n",
    "        \n",
    "        busLine = gp.GeoDataFrame(geometry=busline_geom)\n",
    "        busLine['route_name'] = route_id\n",
    "        busLine['time'] = np.NaN  \n",
    "        \n",
    "        for idx in busLine.index:\n",
    "            busLine.loc[idx, 'time'] = time_index[lastIdx]\n",
    "            lastIdx = lastIdx + 1\n",
    "   \n",
    "            if lastIdx == totalIdx:\n",
    "                flag = False\n",
    "                break\n",
    "                \n",
    "        busLineFinal.append(busLine)\n",
    "    \n",
    "    return pd.concat(busLineFinal).dropna().reset_index(drop=True)"
   ]
  },
  {
   "cell_type": "code",
   "execution_count": null,
   "metadata": {
    "scrolled": true
   },
   "outputs": [],
   "source": [
    "gdf = gp.read_file('./bus_routes_nyc_may2019/bus_routes_nyc_may2019.shp')"
   ]
  },
  {
   "cell_type": "code",
   "execution_count": null,
   "metadata": {
    "scrolled": false
   },
   "outputs": [],
   "source": [
    "brooklynLines = []\n",
    "points = 250\n",
    "for row in gdf.values:\n",
    "    if regex.search(row[0]):\n",
    "        brooklynLines.append(create_geo(row, points, pd.date_range('00:00', '23:59', freq='30s')))\n",
    "        break\n",
    "brooklynPoints = pd.concat(brooklynLines)"
   ]
  },
  {
   "cell_type": "code",
   "execution_count": null,
   "metadata": {},
   "outputs": [],
   "source": [
    "from fiona.crs import from_epsg\n",
    "\n",
    "brooklynPoints.crs = from_epsg(2263)\n",
    "brooklynPoints.to_crs(epsg=4326, inplace=True)"
   ]
  },
  {
   "cell_type": "code",
   "execution_count": null,
   "metadata": {},
   "outputs": [],
   "source": [
    "brooklynBuses = brooklynPoints[['time','route_name', 'geometry']].copy()\n",
    "x, y = brooklynBuses.geometry.x, brooklynBuses.geometry.y"
   ]
  },
  {
   "cell_type": "code",
   "execution_count": null,
   "metadata": {},
   "outputs": [],
   "source": [
    "brooklynBuses.loc[:, 'lon'] = x\n",
    "brooklynBuses.loc[:, 'lat'] = y\n",
    "brooklynBuses.drop('geometry', axis=1, inplace=True)\n",
    "brooklynBuses.head()"
   ]
  },
  {
   "cell_type": "markdown",
   "metadata": {},
   "source": [
    "POPULATE bus.device table with DUMMY DATA\n",
    "\n",
    "\n",
    "Insert into the following table using attached shapefile (points along major Brooklyn Bus routes) where device_id = route_id\n",
    "you will need to create datetime such that each bus route starts at the same time and each point along the time represents an increment of 30 seconds.\n",
    "Copy this dummy data to cover all \"times of day\" so that we can load the dummy data into the interface\n",
    "insert into bus.device (datetime, device_id, lat, lon) VALUES (%s, %s, %s, %s);"
   ]
  },
  {
   "cell_type": "code",
   "execution_count": null,
   "metadata": {},
   "outputs": [],
   "source": [
    "import psycopg2\n",
    "\n",
    "host = \"host\"\n",
    "database = \"database\"\n",
    "user = 'user'\n",
    "password = 'password'"
   ]
  },
  {
   "cell_type": "code",
   "execution_count": null,
   "metadata": {},
   "outputs": [],
   "source": [
    "con = psycopg2.connect(host=host, database=database, user=user, password=password)\n",
    "cur = con.cursor()\n",
    "\n",
    "query = 'insert into bus.device (datetime, device_id, lat, lon) VALUES (%s, %s, %s, %s);'\n",
    "for idx, row in brooklynBuses.iterrows():\n",
    "    if regex_numbers.findall(row['route_name']):\n",
    "        cur.execute(query, (datetime.strptime(str(row['time']), '%Y-%m-%d %H:%M:%S'), int(row['route_name'][1:]), row['lat'], row['lon']))\n",
    "\n",
    "con.close()\n"
   ]
  },
  {
   "cell_type": "code",
   "execution_count": null,
   "metadata": {},
   "outputs": [],
   "source": []
  }
 ],
 "metadata": {
  "kernelspec": {
   "display_name": "Python 3",
   "language": "python",
   "name": "python3"
  },
  "language_info": {
   "codemirror_mode": {
    "name": "ipython",
    "version": 3
   },
   "file_extension": ".py",
   "mimetype": "text/x-python",
   "name": "python",
   "nbconvert_exporter": "python",
   "pygments_lexer": "ipython3",
   "version": "3.6.8"
  }
 },
 "nbformat": 4,
 "nbformat_minor": 1
}
